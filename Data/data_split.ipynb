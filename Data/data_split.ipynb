{
  "cells": [
    {
      "cell_type": "code",
      "execution_count": null,
      "id": "ae56ee09",
      "metadata": {
        "id": "ae56ee09"
      },
      "outputs": [],
      "source": [
        "import pandas as pd\n",
        "import numpy as np\n",
        "from tqdm import tqdm\n",
        "import wget "
      ]
    },
    {
      "cell_type": "code",
      "source": [
        "# Downloading data\n",
        "wget https://hktn2022.blob.core.windows.net/dataset/hist_data.csv\n",
        "wget https://hktn2022.blob.core.windows.net/dataset/test.csv"
      ],
      "metadata": {
        "id": "SMfpQ8FvJAWE"
      },
      "id": "SMfpQ8FvJAWE",
      "execution_count": null,
      "outputs": []
    },
    {
      "cell_type": "code",
      "execution_count": null,
      "id": "f25052ea",
      "metadata": {
        "id": "f25052ea"
      },
      "outputs": [],
      "source": [
        "hist_data = pd.read_csv('hist_data.csv')\n",
        "train = pd.read_csv('train.csv')"
      ]
    },
    {
      "cell_type": "code",
      "execution_count": null,
      "id": "ea0d79dc",
      "metadata": {
        "id": "ea0d79dc"
      },
      "outputs": [],
      "source": [
        "orders_sort = hist_data[['buyer_id', 'pav_order_id', 'created']].drop_duplicates()\\\n",
        "                                                                .sort_values(by=['buyer_id', 'created'])\\\n",
        "                                                                .reset_index(drop=True)\n",
        "buyer_last_order = orders_sort.drop_duplicates(subset=['buyer_id'], keep='last')"
      ]
    },
    {
      "cell_type": "code",
      "execution_count": null,
      "id": "0a366077",
      "metadata": {
        "id": "0a366077",
        "outputId": "1e87afb4-3824-44f1-a21a-fcf18c9aa918"
      },
      "outputs": [
        {
          "data": {
            "text/plain": [
              "0.27632608423136606"
            ]
          },
          "execution_count": 73,
          "metadata": {},
          "output_type": "execute_result"
        }
      ],
      "source": [
        "len(buyer_last_order) / len(orders_sort)"
      ]
    },
    {
      "cell_type": "code",
      "execution_count": null,
      "id": "91aaff27",
      "metadata": {
        "id": "91aaff27"
      },
      "outputs": [],
      "source": [
        "train_orders = orders_sort[~np.isin(orders_sort.pav_order_id, buyer_last_order.pav_order_id)]['pav_order_id'].values\n",
        "test_orders = orders_sort[np.isin(orders_sort.pav_order_id, buyer_last_order.pav_order_id)]['pav_order_id'].values"
      ]
    },
    {
      "cell_type": "code",
      "execution_count": null,
      "id": "1be07f8e",
      "metadata": {
        "id": "1be07f8e"
      },
      "outputs": [],
      "source": [
        "train_orders, test_orders = set(train_orders), set(test_orders)"
      ]
    },
    {
      "cell_type": "code",
      "execution_count": null,
      "id": "2972cfaf",
      "metadata": {
        "id": "2972cfaf"
      },
      "outputs": [],
      "source": [
        "train = hist_data[hist_data['pav_order_id'].apply(lambda x: x in train_orders)]\n",
        "test = hist_data[hist_data['pav_order_id'].apply(lambda x: x in test_orders)]"
      ]
    },
    {
      "cell_type": "code",
      "execution_count": null,
      "id": "653df341",
      "metadata": {
        "id": "653df341",
        "outputId": "cf2c096a-f9ee-4f38-a2dd-ce894e2c3851"
      },
      "outputs": [
        {
          "data": {
            "text/plain": [
              "(4529889, 4529889)"
            ]
          },
          "execution_count": 81,
          "metadata": {},
          "output_type": "execute_result"
        }
      ],
      "source": [
        "train.shape[0] + test.shape[0], hist_data.shape[0]"
      ]
    },
    {
      "cell_type": "code",
      "execution_count": null,
      "id": "4df0bf90",
      "metadata": {
        "id": "4df0bf90",
        "outputId": "a851f65f-b9c9-4e10-b707-ee1938c39a98"
      },
      "outputs": [
        {
          "data": {
            "text/plain": [
              "0.2767352577513489"
            ]
          },
          "execution_count": 83,
          "metadata": {},
          "output_type": "execute_result"
        }
      ],
      "source": [
        "test.shape[0] / hist_data.shape[0]"
      ]
    },
    {
      "cell_type": "code",
      "execution_count": null,
      "id": "25e6fef7",
      "metadata": {
        "id": "25e6fef7"
      },
      "outputs": [],
      "source": [
        "train.to_csv('train.csv', index=False)\n",
        "test.to_csv('validation.csv', index=False)"
      ]
    }
  ],
  "metadata": {
    "kernelspec": {
      "display_name": "Python 3 (ipykernel)",
      "language": "python",
      "name": "python3"
    },
    "language_info": {
      "codemirror_mode": {
        "name": "ipython",
        "version": 3
      },
      "file_extension": ".py",
      "mimetype": "text/x-python",
      "name": "python",
      "nbconvert_exporter": "python",
      "pygments_lexer": "ipython3",
      "version": "3.7.10"
    },
    "colab": {
      "name": "data_split.ipynb",
      "provenance": [],
      "collapsed_sections": []
    }
  },
  "nbformat": 4,
  "nbformat_minor": 5
}